{
  "nbformat": 4,
  "nbformat_minor": 0,
  "metadata": {
    "colab": {
      "provenance": [],
      "authorship_tag": "ABX9TyPZ+PuP4Ri5dyMbeU9YubMb",
      "include_colab_link": true
    },
    "kernelspec": {
      "name": "python3",
      "display_name": "Python 3"
    },
    "language_info": {
      "name": "python"
    }
  },
  "cells": [
    {
      "cell_type": "markdown",
      "metadata": {
        "id": "view-in-github",
        "colab_type": "text"
      },
      "source": [
        "<a href=\"https://colab.research.google.com/github/DreamCookie/-/blob/main/MuseumDF.ipynb\" target=\"_parent\"><img src=\"https://colab.research.google.com/assets/colab-badge.svg\" alt=\"Open In Colab\"/></a>"
      ]
    },
    {
      "cell_type": "code",
      "execution_count": 1,
      "metadata": {
        "colab": {
          "base_uri": "https://localhost:8080/"
        },
        "id": "Yt1L63dleYLa",
        "outputId": "13152279-9073-4c8f-cacf-329bfa4ad4a6"
      },
      "outputs": [
        {
          "output_type": "stream",
          "name": "stdout",
          "text": [
            "WARNING: 'git lfs clone' is deprecated and will not be updated\n",
            "          with new flags from 'git clone'\n",
            "\n",
            "'git clone' has been updated in upstream Git to have comparable\n",
            "speeds to 'git lfs clone'.\n",
            "fatal: destination path 'openaccess' already exists and is not an empty directory.\n",
            "Error(s) during clone:\n",
            "git clone failed: exit status 128\n"
          ]
        }
      ],
      "source": [
        "!git lfs clone https://github.com/metmuseum/openaccess"
      ]
    },
    {
      "cell_type": "code",
      "source": [
        "# data analysis and math\n",
        "import pandas as pd\n",
        "import numpy as np\n",
        "import random as rnd\n",
        "\n",
        "# visualization\n",
        "import seaborn as sns\n",
        "import matplotlib.pyplot as plt\n",
        "%matplotlib inline\n",
        "\n",
        "# machine learning\n",
        "from sklearn.linear_model import LogisticRegression\n",
        "from sklearn.svm import SVC, LinearSVC\n",
        "from sklearn.ensemble import RandomForestClassifier\n",
        "from sklearn.neighbors import KNeighborsClassifier\n",
        "from sklearn.naive_bayes import GaussianNB\n",
        "from sklearn.linear_model import Perceptron\n",
        "from sklearn.linear_model import SGDClassifier\n",
        "from sklearn.tree import DecisionTreeClassifier"
      ],
      "metadata": {
        "id": "DWNqIYC7ecJT"
      },
      "execution_count": 2,
      "outputs": []
    },
    {
      "cell_type": "code",
      "source": [
        "met = pd.read_csv('openaccess/MetObjects.csv')"
      ],
      "metadata": {
        "colab": {
          "base_uri": "https://localhost:8080/"
        },
        "id": "BslDrzCyfgrb",
        "outputId": "e02e7ccd-bc70-4370-c02c-7436350c1662"
      },
      "execution_count": 3,
      "outputs": [
        {
          "output_type": "stream",
          "name": "stderr",
          "text": [
            "/usr/local/lib/python3.8/dist-packages/IPython/core/interactiveshell.py:3326: DtypeWarning: Columns (5,7,10,11,12,13,14,34,35,36,37,38,39,40,41,42,43,44,45,46) have mixed types.Specify dtype option on import or set low_memory=False.\n",
            "  exec(code_obj, self.user_global_ns, self.user_ns)\n"
          ]
        }
      ]
    },
    {
      "cell_type": "code",
      "source": [
        "met.head(3)"
      ],
      "metadata": {
        "colab": {
          "base_uri": "https://localhost:8080/",
          "height": 479
        },
        "id": "xFAVy3NEgjNe",
        "outputId": "8aebe555-b0be-454d-f838-1a09cb04c807"
      },
      "execution_count": 5,
      "outputs": [
        {
          "output_type": "execute_result",
          "data": {
            "text/plain": [
              "  Object Number  Is Highlight  Is Timeline Work  Is Public Domain  Object ID  \\\n",
              "0    1979.486.1         False             False             False          1   \n",
              "1    1980.264.5         False             False             False          2   \n",
              "2      67.265.9         False             False             False          3   \n",
              "\n",
              "  Gallery Number         Department AccessionYear Object Name  \\\n",
              "0            NaN  The American Wing        1979.0        Coin   \n",
              "1            NaN  The American Wing        1980.0        Coin   \n",
              "2            NaN  The American Wing        1967.0        Coin   \n",
              "\n",
              "                          Title  ... River Classification  \\\n",
              "0  One-dollar Liberty Head Coin  ...   NaN            NaN   \n",
              "1  Ten-dollar Liberty Head Coin  ...   NaN            NaN   \n",
              "2    Two-and-a-Half Dollar Coin  ...   NaN            NaN   \n",
              "\n",
              "  Rights and Reproduction                                     Link Resource  \\\n",
              "0                     NaN  http://www.metmuseum.org/art/collection/search/1   \n",
              "1                     NaN  http://www.metmuseum.org/art/collection/search/2   \n",
              "2                     NaN  http://www.metmuseum.org/art/collection/search/3   \n",
              "\n",
              "  Object Wikidata URL Metadata Date                                Repository  \\\n",
              "0                 NaN           NaN  Metropolitan Museum of Art, New York, NY   \n",
              "1                 NaN           NaN  Metropolitan Museum of Art, New York, NY   \n",
              "2                 NaN           NaN  Metropolitan Museum of Art, New York, NY   \n",
              "\n",
              "  Tags Tags AAT URL Tags Wikidata URL  \n",
              "0  NaN          NaN               NaN  \n",
              "1  NaN          NaN               NaN  \n",
              "2  NaN          NaN               NaN  \n",
              "\n",
              "[3 rows x 54 columns]"
            ],
            "text/html": [
              "\n",
              "  <div id=\"df-1fbf5324-eb52-454c-9d5d-92025a4e8406\">\n",
              "    <div class=\"colab-df-container\">\n",
              "      <div>\n",
              "<style scoped>\n",
              "    .dataframe tbody tr th:only-of-type {\n",
              "        vertical-align: middle;\n",
              "    }\n",
              "\n",
              "    .dataframe tbody tr th {\n",
              "        vertical-align: top;\n",
              "    }\n",
              "\n",
              "    .dataframe thead th {\n",
              "        text-align: right;\n",
              "    }\n",
              "</style>\n",
              "<table border=\"1\" class=\"dataframe\">\n",
              "  <thead>\n",
              "    <tr style=\"text-align: right;\">\n",
              "      <th></th>\n",
              "      <th>Object Number</th>\n",
              "      <th>Is Highlight</th>\n",
              "      <th>Is Timeline Work</th>\n",
              "      <th>Is Public Domain</th>\n",
              "      <th>Object ID</th>\n",
              "      <th>Gallery Number</th>\n",
              "      <th>Department</th>\n",
              "      <th>AccessionYear</th>\n",
              "      <th>Object Name</th>\n",
              "      <th>Title</th>\n",
              "      <th>...</th>\n",
              "      <th>River</th>\n",
              "      <th>Classification</th>\n",
              "      <th>Rights and Reproduction</th>\n",
              "      <th>Link Resource</th>\n",
              "      <th>Object Wikidata URL</th>\n",
              "      <th>Metadata Date</th>\n",
              "      <th>Repository</th>\n",
              "      <th>Tags</th>\n",
              "      <th>Tags AAT URL</th>\n",
              "      <th>Tags Wikidata URL</th>\n",
              "    </tr>\n",
              "  </thead>\n",
              "  <tbody>\n",
              "    <tr>\n",
              "      <th>0</th>\n",
              "      <td>1979.486.1</td>\n",
              "      <td>False</td>\n",
              "      <td>False</td>\n",
              "      <td>False</td>\n",
              "      <td>1</td>\n",
              "      <td>NaN</td>\n",
              "      <td>The American Wing</td>\n",
              "      <td>1979.0</td>\n",
              "      <td>Coin</td>\n",
              "      <td>One-dollar Liberty Head Coin</td>\n",
              "      <td>...</td>\n",
              "      <td>NaN</td>\n",
              "      <td>NaN</td>\n",
              "      <td>NaN</td>\n",
              "      <td>http://www.metmuseum.org/art/collection/search/1</td>\n",
              "      <td>NaN</td>\n",
              "      <td>NaN</td>\n",
              "      <td>Metropolitan Museum of Art, New York, NY</td>\n",
              "      <td>NaN</td>\n",
              "      <td>NaN</td>\n",
              "      <td>NaN</td>\n",
              "    </tr>\n",
              "    <tr>\n",
              "      <th>1</th>\n",
              "      <td>1980.264.5</td>\n",
              "      <td>False</td>\n",
              "      <td>False</td>\n",
              "      <td>False</td>\n",
              "      <td>2</td>\n",
              "      <td>NaN</td>\n",
              "      <td>The American Wing</td>\n",
              "      <td>1980.0</td>\n",
              "      <td>Coin</td>\n",
              "      <td>Ten-dollar Liberty Head Coin</td>\n",
              "      <td>...</td>\n",
              "      <td>NaN</td>\n",
              "      <td>NaN</td>\n",
              "      <td>NaN</td>\n",
              "      <td>http://www.metmuseum.org/art/collection/search/2</td>\n",
              "      <td>NaN</td>\n",
              "      <td>NaN</td>\n",
              "      <td>Metropolitan Museum of Art, New York, NY</td>\n",
              "      <td>NaN</td>\n",
              "      <td>NaN</td>\n",
              "      <td>NaN</td>\n",
              "    </tr>\n",
              "    <tr>\n",
              "      <th>2</th>\n",
              "      <td>67.265.9</td>\n",
              "      <td>False</td>\n",
              "      <td>False</td>\n",
              "      <td>False</td>\n",
              "      <td>3</td>\n",
              "      <td>NaN</td>\n",
              "      <td>The American Wing</td>\n",
              "      <td>1967.0</td>\n",
              "      <td>Coin</td>\n",
              "      <td>Two-and-a-Half Dollar Coin</td>\n",
              "      <td>...</td>\n",
              "      <td>NaN</td>\n",
              "      <td>NaN</td>\n",
              "      <td>NaN</td>\n",
              "      <td>http://www.metmuseum.org/art/collection/search/3</td>\n",
              "      <td>NaN</td>\n",
              "      <td>NaN</td>\n",
              "      <td>Metropolitan Museum of Art, New York, NY</td>\n",
              "      <td>NaN</td>\n",
              "      <td>NaN</td>\n",
              "      <td>NaN</td>\n",
              "    </tr>\n",
              "  </tbody>\n",
              "</table>\n",
              "<p>3 rows × 54 columns</p>\n",
              "</div>\n",
              "      <button class=\"colab-df-convert\" onclick=\"convertToInteractive('df-1fbf5324-eb52-454c-9d5d-92025a4e8406')\"\n",
              "              title=\"Convert this dataframe to an interactive table.\"\n",
              "              style=\"display:none;\">\n",
              "        \n",
              "  <svg xmlns=\"http://www.w3.org/2000/svg\" height=\"24px\"viewBox=\"0 0 24 24\"\n",
              "       width=\"24px\">\n",
              "    <path d=\"M0 0h24v24H0V0z\" fill=\"none\"/>\n",
              "    <path d=\"M18.56 5.44l.94 2.06.94-2.06 2.06-.94-2.06-.94-.94-2.06-.94 2.06-2.06.94zm-11 1L8.5 8.5l.94-2.06 2.06-.94-2.06-.94L8.5 2.5l-.94 2.06-2.06.94zm10 10l.94 2.06.94-2.06 2.06-.94-2.06-.94-.94-2.06-.94 2.06-2.06.94z\"/><path d=\"M17.41 7.96l-1.37-1.37c-.4-.4-.92-.59-1.43-.59-.52 0-1.04.2-1.43.59L10.3 9.45l-7.72 7.72c-.78.78-.78 2.05 0 2.83L4 21.41c.39.39.9.59 1.41.59.51 0 1.02-.2 1.41-.59l7.78-7.78 2.81-2.81c.8-.78.8-2.07 0-2.86zM5.41 20L4 18.59l7.72-7.72 1.47 1.35L5.41 20z\"/>\n",
              "  </svg>\n",
              "      </button>\n",
              "      \n",
              "  <style>\n",
              "    .colab-df-container {\n",
              "      display:flex;\n",
              "      flex-wrap:wrap;\n",
              "      gap: 12px;\n",
              "    }\n",
              "\n",
              "    .colab-df-convert {\n",
              "      background-color: #E8F0FE;\n",
              "      border: none;\n",
              "      border-radius: 50%;\n",
              "      cursor: pointer;\n",
              "      display: none;\n",
              "      fill: #1967D2;\n",
              "      height: 32px;\n",
              "      padding: 0 0 0 0;\n",
              "      width: 32px;\n",
              "    }\n",
              "\n",
              "    .colab-df-convert:hover {\n",
              "      background-color: #E2EBFA;\n",
              "      box-shadow: 0px 1px 2px rgba(60, 64, 67, 0.3), 0px 1px 3px 1px rgba(60, 64, 67, 0.15);\n",
              "      fill: #174EA6;\n",
              "    }\n",
              "\n",
              "    [theme=dark] .colab-df-convert {\n",
              "      background-color: #3B4455;\n",
              "      fill: #D2E3FC;\n",
              "    }\n",
              "\n",
              "    [theme=dark] .colab-df-convert:hover {\n",
              "      background-color: #434B5C;\n",
              "      box-shadow: 0px 1px 3px 1px rgba(0, 0, 0, 0.15);\n",
              "      filter: drop-shadow(0px 1px 2px rgba(0, 0, 0, 0.3));\n",
              "      fill: #FFFFFF;\n",
              "    }\n",
              "  </style>\n",
              "\n",
              "      <script>\n",
              "        const buttonEl =\n",
              "          document.querySelector('#df-1fbf5324-eb52-454c-9d5d-92025a4e8406 button.colab-df-convert');\n",
              "        buttonEl.style.display =\n",
              "          google.colab.kernel.accessAllowed ? 'block' : 'none';\n",
              "\n",
              "        async function convertToInteractive(key) {\n",
              "          const element = document.querySelector('#df-1fbf5324-eb52-454c-9d5d-92025a4e8406');\n",
              "          const dataTable =\n",
              "            await google.colab.kernel.invokeFunction('convertToInteractive',\n",
              "                                                     [key], {});\n",
              "          if (!dataTable) return;\n",
              "\n",
              "          const docLinkHtml = 'Like what you see? Visit the ' +\n",
              "            '<a target=\"_blank\" href=https://colab.research.google.com/notebooks/data_table.ipynb>data table notebook</a>'\n",
              "            + ' to learn more about interactive tables.';\n",
              "          element.innerHTML = '';\n",
              "          dataTable['output_type'] = 'display_data';\n",
              "          await google.colab.output.renderOutput(dataTable, element);\n",
              "          const docLink = document.createElement('div');\n",
              "          docLink.innerHTML = docLinkHtml;\n",
              "          element.appendChild(docLink);\n",
              "        }\n",
              "      </script>\n",
              "    </div>\n",
              "  </div>\n",
              "  "
            ]
          },
          "metadata": {},
          "execution_count": 5
        }
      ]
    },
    {
      "cell_type": "code",
      "source": [
        "met.info()"
      ],
      "metadata": {
        "colab": {
          "base_uri": "https://localhost:8080/"
        },
        "id": "SzJda5iJgnhu",
        "outputId": "1d347f12-3c86-454e-d8d9-b78958510394"
      },
      "execution_count": 6,
      "outputs": [
        {
          "output_type": "stream",
          "name": "stdout",
          "text": [
            "<class 'pandas.core.frame.DataFrame'>\n",
            "RangeIndex: 477804 entries, 0 to 477803\n",
            "Data columns (total 54 columns):\n",
            " #   Column                   Non-Null Count   Dtype  \n",
            "---  ------                   --------------   -----  \n",
            " 0   Object Number            477804 non-null  object \n",
            " 1   Is Highlight             477804 non-null  bool   \n",
            " 2   Is Timeline Work         477804 non-null  bool   \n",
            " 3   Is Public Domain         477804 non-null  bool   \n",
            " 4   Object ID                477804 non-null  int64  \n",
            " 5   Gallery Number           51776 non-null   object \n",
            " 6   Department               477804 non-null  object \n",
            " 7   AccessionYear            474248 non-null  object \n",
            " 8   Object Name              476113 non-null  object \n",
            " 9   Title                    448619 non-null  object \n",
            " 10  Culture                  207379 non-null  object \n",
            " 11  Period                   90956 non-null   object \n",
            " 12  Dynasty                  23233 non-null   object \n",
            " 13  Reign                    11226 non-null   object \n",
            " 14  Portfolio                23530 non-null   object \n",
            " 15  Constituent ID           275535 non-null  object \n",
            " 16  Artist Role              273436 non-null  object \n",
            " 17  Artist Prefix            275535 non-null  object \n",
            " 18  Artist Display Name      275535 non-null  object \n",
            " 19  Artist Display Bio       273436 non-null  object \n",
            " 20  Artist Suffix            275487 non-null  object \n",
            " 21  Artist Alpha Sort        275535 non-null  object \n",
            " 22  Artist Nationality       275535 non-null  object \n",
            " 23  Artist Begin Date        275535 non-null  object \n",
            " 24  Artist End Date          275535 non-null  object \n",
            " 25  Artist Gender            103061 non-null  object \n",
            " 26  Artist ULAN URL          222021 non-null  object \n",
            " 27  Artist Wikidata URL      217732 non-null  object \n",
            " 28  Object Date              463937 non-null  object \n",
            " 29  Object Begin Date        477804 non-null  int64  \n",
            " 30  Object End Date          477804 non-null  int64  \n",
            " 31  Medium                   470684 non-null  object \n",
            " 32  Dimensions               402510 non-null  object \n",
            " 33  Credit Line              477353 non-null  object \n",
            " 34  Geography Type           59769 non-null   object \n",
            " 35  City                     32407 non-null   object \n",
            " 36  State                    2550 non-null    object \n",
            " 37  County                   8450 non-null    object \n",
            " 38  Country                  75751 non-null   object \n",
            " 39  Region                   31360 non-null   object \n",
            " 40  Subregion                22124 non-null   object \n",
            " 41  Locale                   15709 non-null   object \n",
            " 42  Locus                    7493 non-null    object \n",
            " 43  Excavation               16558 non-null   object \n",
            " 44  River                    2095 non-null    object \n",
            " 45  Classification           399598 non-null  object \n",
            " 46  Rights and Reproduction  24198 non-null   object \n",
            " 47  Link Resource            477804 non-null  object \n",
            " 48  Object Wikidata URL      22265 non-null   object \n",
            " 49  Metadata Date            0 non-null       float64\n",
            " 50  Repository               477804 non-null  object \n",
            " 51  Tags                     200400 non-null  object \n",
            " 52  Tags AAT URL             200400 non-null  object \n",
            " 53  Tags Wikidata URL        200400 non-null  object \n",
            "dtypes: bool(3), float64(1), int64(3), object(47)\n",
            "memory usage: 187.3+ MB\n"
          ]
        }
      ]
    },
    {
      "cell_type": "code",
      "source": [
        "met.isnull().sum().sort_values(ascending=False)"
      ],
      "metadata": {
        "colab": {
          "base_uri": "https://localhost:8080/"
        },
        "id": "e5gG2-vohEpf",
        "outputId": "0ce851c9-3558-4d1c-9a1d-3c7c4ce3d28c"
      },
      "execution_count": 7,
      "outputs": [
        {
          "output_type": "execute_result",
          "data": {
            "text/plain": [
              "Metadata Date              477804\n",
              "River                      475709\n",
              "State                      475254\n",
              "Locus                      470311\n",
              "County                     469354\n",
              "Reign                      466578\n",
              "Locale                     462095\n",
              "Excavation                 461246\n",
              "Subregion                  455680\n",
              "Object Wikidata URL        455539\n",
              "Dynasty                    454571\n",
              "Portfolio                  454274\n",
              "Rights and Reproduction    453606\n",
              "Region                     446444\n",
              "City                       445397\n",
              "Gallery Number             426028\n",
              "Geography Type             418035\n",
              "Country                    402053\n",
              "Period                     386848\n",
              "Artist Gender              374743\n",
              "Tags                       277404\n",
              "Tags AAT URL               277404\n",
              "Tags Wikidata URL          277404\n",
              "Culture                    270425\n",
              "Artist Wikidata URL        260072\n",
              "Artist ULAN URL            255783\n",
              "Artist Role                204368\n",
              "Artist Display Bio         204368\n",
              "Artist Suffix              202317\n",
              "Artist End Date            202269\n",
              "Artist Nationality         202269\n",
              "Constituent ID             202269\n",
              "Artist Prefix              202269\n",
              "Artist Alpha Sort          202269\n",
              "Artist Display Name        202269\n",
              "Artist Begin Date          202269\n",
              "Classification              78206\n",
              "Dimensions                  75294\n",
              "Title                       29185\n",
              "Object Date                 13867\n",
              "Medium                       7120\n",
              "AccessionYear                3556\n",
              "Object Name                  1691\n",
              "Credit Line                   451\n",
              "Is Highlight                    0\n",
              "Object Begin Date               0\n",
              "Object End Date                 0\n",
              "Link Resource                   0\n",
              "Department                      0\n",
              "Object ID                       0\n",
              "Repository                      0\n",
              "Is Public Domain                0\n",
              "Is Timeline Work                0\n",
              "Object Number                   0\n",
              "dtype: int64"
            ]
          },
          "metadata": {},
          "execution_count": 7
        }
      ]
    },
    {
      "cell_type": "code",
      "source": [
        "met.shape"
      ],
      "metadata": {
        "colab": {
          "base_uri": "https://localhost:8080/"
        },
        "id": "poOkhGuwpn7A",
        "outputId": "3189dc2b-e698-4756-ea1d-de1cec2f484a"
      },
      "execution_count": 8,
      "outputs": [
        {
          "output_type": "execute_result",
          "data": {
            "text/plain": [
              "(477804, 54)"
            ]
          },
          "metadata": {},
          "execution_count": 8
        }
      ]
    },
    {
      "cell_type": "code",
      "source": [
        "def plot_pie_chart(values, labels, title):\n",
        "  fig1, ax1 = plt.subplots()\n",
        "  ax1.pie(values, labels=labels, autopct='%1.1f%%', shadow=True)\n",
        "  plt.title(title, size=14, pad=15)\n",
        "\n",
        "  plt.show()"
      ],
      "metadata": {
        "id": "lSbVRF3qo1q4"
      },
      "execution_count": 9,
      "outputs": []
    },
    {
      "cell_type": "code",
      "source": [
        "def plot_bar_chart(df, column, figsize=(10,5), title=None):\n",
        "    counts = df[column].value_counts()[:10]\n",
        "    plt.figure(figsize=figsize)\n",
        "    sns.barplot(counts.values, counts.index)\n",
        "    plt.xlabel('Number of artworks', size=14, labelpad=15)\n",
        "    plt.xticks(rotation=0)\n",
        "    plt.ylabel(column, size=14)\n",
        "    plt.title(title, size=14, pad=15)\n",
        "    plt.show()"
      ],
      "metadata": {
        "id": "1OtRegQms3Gp"
      },
      "execution_count": 10,
      "outputs": []
    },
    {
      "cell_type": "code",
      "source": [
        "\n",
        "no_nulls = set(met.columns[met.isnull().mean()==0])\n",
        "len(no_nulls)\n",
        "     "
      ],
      "metadata": {
        "colab": {
          "base_uri": "https://localhost:8080/"
        },
        "id": "Ss9FWLE5uorl",
        "outputId": "5eb2ec7f-c3c5-4231-f339-3f67dd7003f8"
      },
      "execution_count": 11,
      "outputs": [
        {
          "output_type": "execute_result",
          "data": {
            "text/plain": [
              "10"
            ]
          },
          "metadata": {},
          "execution_count": 11
        }
      ]
    },
    {
      "cell_type": "code",
      "source": [
        "missing_cols = set(met.columns[met.isnull().mean() > 0.50])\n",
        "print(len(missing_cols))\n",
        "print(missing_cols)"
      ],
      "metadata": {
        "colab": {
          "base_uri": "https://localhost:8080/"
        },
        "id": "5aulZi8mvZ9f",
        "outputId": "9eb9a3e7-b1d8-47ce-ce89-3962ba86ea5b"
      },
      "execution_count": 12,
      "outputs": [
        {
          "output_type": "stream",
          "name": "stdout",
          "text": [
            "26\n",
            "{'River', 'Artist Gender', 'Artist Wikidata URL', 'Locale', 'State', 'Tags Wikidata URL', 'Subregion', 'Tags AAT URL', 'Artist ULAN URL', 'Region', 'City', 'Tags', 'Dynasty', 'Excavation', 'Locus', 'County', 'Period', 'Rights and Reproduction', 'Gallery Number', 'Object Wikidata URL', 'Reign', 'Culture', 'Geography Type', 'Portfolio', 'Metadata Date', 'Country'}\n"
          ]
        }
      ]
    },
    {
      "cell_type": "code",
      "source": [
        "missing_cols = set(met.columns[met.isnull().mean() > 0.75])\n",
        "print(len(missing_cols))\n",
        "print(missing_cols)"
      ],
      "metadata": {
        "colab": {
          "base_uri": "https://localhost:8080/"
        },
        "id": "c_BE0JYwvoNd",
        "outputId": "dba7e6e5-bdde-45d8-9b6e-19b6807a6fe9"
      },
      "execution_count": 13,
      "outputs": [
        {
          "output_type": "stream",
          "name": "stdout",
          "text": [
            "20\n",
            "{'River', 'Artist Gender', 'Locale', 'State', 'Subregion', 'Region', 'City', 'Dynasty', 'Excavation', 'Locus', 'County', 'Rights and Reproduction', 'Period', 'Gallery Number', 'Object Wikidata URL', 'Reign', 'Geography Type', 'Portfolio', 'Metadata Date', 'Country'}\n"
          ]
        }
      ]
    },
    {
      "cell_type": "code",
      "source": [
        "for col in missing_cols:\n",
        "  print(col)"
      ],
      "metadata": {
        "colab": {
          "base_uri": "https://localhost:8080/"
        },
        "id": "xNNz8PiyvsSc",
        "outputId": "1c35e513-f485-44e4-d173-ec90be9f166d"
      },
      "execution_count": 14,
      "outputs": [
        {
          "output_type": "stream",
          "name": "stdout",
          "text": [
            "River\n",
            "Artist Gender\n",
            "Locale\n",
            "State\n",
            "Subregion\n",
            "Region\n",
            "City\n",
            "Dynasty\n",
            "Excavation\n",
            "Locus\n",
            "County\n",
            "Rights and Reproduction\n",
            "Period\n",
            "Gallery Number\n",
            "Object Wikidata URL\n",
            "Reign\n",
            "Geography Type\n",
            "Portfolio\n",
            "Metadata Date\n",
            "Country\n"
          ]
        }
      ]
    },
    {
      "cell_type": "code",
      "source": [
        "met['Artist Nationality'].value_counts()[:10]"
      ],
      "metadata": {
        "colab": {
          "base_uri": "https://localhost:8080/"
        },
        "id": "vFhfEpulvxtV",
        "outputId": "a9c9d949-e7db-4285-b688-4e7b9879157e"
      },
      "execution_count": 16,
      "outputs": [
        {
          "output_type": "execute_result",
          "data": {
            "text/plain": [
              "                     67789\n",
              "American             46368\n",
              " |                   17287\n",
              "French               16310\n",
              "Italian              11681\n",
              "French|French         8604\n",
              "British               7673\n",
              "German                6697\n",
              "American|American     6512\n",
              "Japanese              6015\n",
              "Name: Artist Nationality, dtype: int64"
            ]
          },
          "metadata": {},
          "execution_count": 16
        }
      ]
    },
    {
      "cell_type": "code",
      "source": [
        "values = met['Artist Nationality'].value_counts()[:5].values\n",
        "labels = met['Artist Nationality'].value_counts()[:5].index\n",
        "plot_pie_chart(values, labels, \"Top 5 Artists Nationality\")"
      ],
      "metadata": {
        "colab": {
          "base_uri": "https://localhost:8080/",
          "height": 274
        },
        "id": "aN7KBvuHmnL9",
        "outputId": "953e5f96-0c3a-4de1-ea88-8b64ca8d9f6a"
      },
      "execution_count": 19,
      "outputs": [
        {
          "output_type": "display_data",
          "data": {
            "text/plain": [
              "<Figure size 432x288 with 1 Axes>"
            ],
            "image/png": "[encoded data removed]"
          },
          "metadata": {}
        }
      ]
    },
    {
      "cell_type": "code",
      "source": [
        "met['Artist Display Name'].describe()"
      ],
      "metadata": {
        "colab": {
          "base_uri": "https://localhost:8080/"
        },
        "id": "W5ZsB8bLwbZi",
        "outputId": "1fb053a7-5182-4117-f41d-3550a4a52b4f"
      },
      "execution_count": 29,
      "outputs": [
        {
          "output_type": "execute_result",
          "data": {
            "text/plain": [
              "count           275535\n",
              "unique           64531\n",
              "top       Walker Evans\n",
              "freq              7505\n",
              "Name: Artist Display Name, dtype: object"
            ]
          },
          "metadata": {},
          "execution_count": 29
        }
      ]
    },
    {
      "cell_type": "code",
      "source": [
        "met['Artist Display Name'].value_counts()[:10]"
      ],
      "metadata": {
        "colab": {
          "base_uri": "https://localhost:8080/"
        },
        "id": "hYszJDUyyYcb",
        "outputId": "6c109d58-4888-420e-b932-4ad2d361a2ec"
      },
      "execution_count": 30,
      "outputs": [
        {
          "output_type": "execute_result",
          "data": {
            "text/plain": [
              "Walker Evans                       7505\n",
              "Kinney Brothers Tobacco Company    4163\n",
              "Unknown                            3562\n",
              "W. Duke, Sons & Co.                3088\n",
              "Allen & Ginter                     2960\n",
              "Brewster & Co.                     2757\n",
              "Goodwin & Company                  2652\n",
              "Topps Chewing Gum Company          2273\n",
              "American Tobacco Company           2067\n",
              "Exhibit Supply Company             1522\n",
              "Name: Artist Display Name, dtype: int64"
            ]
          },
          "metadata": {},
          "execution_count": 30
        }
      ]
    },
    {
      "cell_type": "code",
      "source": [
        "plot_bar_chart(met, column=\"Artist Display Name\", title='Top 10 Artists with the Most Artworks')"
      ],
      "metadata": {
        "colab": {
          "base_uri": "https://localhost:8080/",
          "height": 430
        },
        "id": "nJs1nx1U2RG5",
        "outputId": "75c22b17-7b7f-4066-de60-358346fe5ca9"
      },
      "execution_count": 31,
      "outputs": [
        {
          "output_type": "stream",
          "name": "stderr",
          "text": [
            "/usr/local/lib/python3.8/dist-packages/seaborn/_decorators.py:36: FutureWarning: Pass the following variables as keyword args: x, y. From version 0.12, the only valid positional argument will be `data`, and passing other arguments without an explicit keyword will result in an error or misinterpretation.\n",
            "  warnings.warn(\n"
          ]
        },
        {
          "output_type": "display_data",
          "data": {
            "text/plain": [
              "<Figure size 720x360 with 1 Axes>"
            ],
            "image/png": "[encoded data removed]"
          },
          "metadata": {
            "needs_background": "light"
          }
        }
      ]
    },
    {
      "cell_type": "code",
      "source": [
        "met['Is Public Domain'].value_counts()"
      ],
      "metadata": {
        "colab": {
          "base_uri": "https://localhost:8080/"
        },
        "id": "a7mu7ZDq2V5g",
        "outputId": "7f6dde10-cf6e-4176-f4cf-eaaa35c79532"
      },
      "execution_count": 33,
      "outputs": [
        {
          "output_type": "execute_result",
          "data": {
            "text/plain": [
              "True     245307\n",
              "False    232497\n",
              "Name: Is Public Domain, dtype: int64"
            ]
          },
          "metadata": {},
          "execution_count": 33
        }
      ]
    },
    {
      "cell_type": "code",
      "source": [
        "values = met['Is Public Domain'].value_counts()[:5].values\n",
        "labels = met['Is Public Domain'].value_counts()[:5].index\n",
        "\n",
        "plot_pie_chart(values, labels, \"Artworks in Public Domain\")"
      ],
      "metadata": {
        "colab": {
          "base_uri": "https://localhost:8080/",
          "height": 274
        },
        "id": "22K-ZPaT23pa",
        "outputId": "2880c212-360e-418c-9258-c2b43cf8eb2d"
      },
      "execution_count": 34,
      "outputs": [
        {
          "output_type": "display_data",
          "data": {
            "text/plain": [
              "<Figure size 432x288 with 1 Axes>"
            ],
            "image/png": "[encoded data removed]"
          },
          "metadata": {}
        }
      ]
    },
    {
      "cell_type": "code",
      "source": [
        "met['Medium'].value_counts()[:10]"
      ],
      "metadata": {
        "colab": {
          "base_uri": "https://localhost:8080/"
        },
        "id": "jLXccC-p2-aw",
        "outputId": "689a0d80-3e4d-4a87-d627-64db7c486795"
      },
      "execution_count": 35,
      "outputs": [
        {
          "output_type": "execute_result",
          "data": {
            "text/plain": [
              "Terracotta                     23532\n",
              "Commercial color lithograph    17548\n",
              "Etching                        16851\n",
              "Engraving                      11433\n",
              "Gelatin silver print           10340\n",
              "Albumen photograph              9653\n",
              "Silk                            8495\n",
              "Bronze                          7217\n",
              "Glass                           6523\n",
              "Lithograph                      6500\n",
              "Name: Medium, dtype: int64"
            ]
          },
          "metadata": {},
          "execution_count": 35
        }
      ]
    },
    {
      "cell_type": "code",
      "source": [
        "plot_bar_chart(met, column='Medium', title=\"Top 10 Artworks Media\")"
      ],
      "metadata": {
        "colab": {
          "base_uri": "https://localhost:8080/",
          "height": 430
        },
        "id": "fZ1I5EdC3DJB",
        "outputId": "4ff0d228-79a3-4da1-a5c4-cab7f28fc460"
      },
      "execution_count": 36,
      "outputs": [
        {
          "output_type": "stream",
          "name": "stderr",
          "text": [
            "/usr/local/lib/python3.8/dist-packages/seaborn/_decorators.py:36: FutureWarning: Pass the following variables as keyword args: x, y. From version 0.12, the only valid positional argument will be `data`, and passing other arguments without an explicit keyword will result in an error or misinterpretation.\n",
            "  warnings.warn(\n"
          ]
        },
        {
          "output_type": "display_data",
          "data": {
            "text/plain": [
              "<Figure size 720x360 with 1 Axes>"
            ],
            "image/png": "[encoded data removed]"
          },
          "metadata": {
            "needs_background": "light"
          }
        }
      ]
    },
    {
      "cell_type": "code",
      "source": [
        "met['Department'].value_counts()"
      ],
      "metadata": {
        "colab": {
          "base_uri": "https://localhost:8080/"
        },
        "id": "EbF6m_p93JAZ",
        "outputId": "837ff990-0b6b-4d29-bf23-80ac5958a915"
      },
      "execution_count": 38,
      "outputs": [
        {
          "output_type": "execute_result",
          "data": {
            "text/plain": [
              "Drawings and Prints                          167152\n",
              "European Sculpture and Decorative Arts        42934\n",
              "Photographs                                   37192\n",
              "Asian Art                                     36817\n",
              "Greek and Roman Art                           33750\n",
              "Costume Institute                             31412\n",
              "Egyptian Art                                  27962\n",
              "The American Wing                             18412\n",
              "Islamic Art                                   15473\n",
              "Modern and Contemporary Art                   14241\n",
              "Arms and Armor                                13611\n",
              "Arts of Africa, Oceania, and the Americas     12335\n",
              "Medieval Art                                   7150\n",
              "Ancient Near Eastern Art                       6222\n",
              "Musical Instruments                            5210\n",
              "European Paintings                             2617\n",
              "Robert Lehman Collection                       2586\n",
              "The Cloisters                                  2338\n",
              "The Libraries                                   390\n",
              "Name: Department, dtype: int64"
            ]
          },
          "metadata": {},
          "execution_count": 38
        }
      ]
    },
    {
      "cell_type": "code",
      "source": [
        "plot_bar_chart(met, column='Department', title=\"Top 10 Departments with Largest Collections\")"
      ],
      "metadata": {
        "colab": {
          "base_uri": "https://localhost:8080/",
          "height": 430
        },
        "id": "Y8qbZsL83Ms-",
        "outputId": "673fc8c8-5860-4444-ad3c-10df4535c78f"
      },
      "execution_count": 39,
      "outputs": [
        {
          "output_type": "stream",
          "name": "stderr",
          "text": [
            "/usr/local/lib/python3.8/dist-packages/seaborn/_decorators.py:36: FutureWarning: Pass the following variables as keyword args: x, y. From version 0.12, the only valid positional argument will be `data`, and passing other arguments without an explicit keyword will result in an error or misinterpretation.\n",
            "  warnings.warn(\n"
          ]
        },
        {
          "output_type": "display_data",
          "data": {
            "text/plain": [
              "<Figure size 720x360 with 1 Axes>"
            ],
            "image/png": "[encoded data removed]"
          },
          "metadata": {
            "needs_background": "light"
          }
        }
      ]
    },
    {
      "cell_type": "code",
      "source": [
        "met['Classification'].value_counts()[:10]"
      ],
      "metadata": {
        "colab": {
          "base_uri": "https://localhost:8080/"
        },
        "id": "Gw8-9zBs3RIu",
        "outputId": "cb278d00-ff8f-44fd-d0b5-ab93b04e1956"
      },
      "execution_count": 40,
      "outputs": [
        {
          "output_type": "execute_result",
          "data": {
            "text/plain": [
              "Prints                  80981\n",
              "Prints|Ephemera         28388\n",
              "Photographs             27091\n",
              "Drawings                22717\n",
              "Vases                   21315\n",
              "Books                   14764\n",
              "Ceramics                11059\n",
              "Textiles-Woven          11000\n",
              "Photographs|Ephemera    10018\n",
              "Paintings                8624\n",
              "Name: Classification, dtype: int64"
            ]
          },
          "metadata": {},
          "execution_count": 40
        }
      ]
    },
    {
      "cell_type": "code",
      "source": [
        "plot_bar_chart(met, column='Classification', title=\"Artworks by Classification\")"
      ],
      "metadata": {
        "colab": {
          "base_uri": "https://localhost:8080/",
          "height": 430
        },
        "id": "LIP09owN3bRd",
        "outputId": "73d90ff5-c657-4af1-8567-d65579d7b5a7"
      },
      "execution_count": 41,
      "outputs": [
        {
          "output_type": "stream",
          "name": "stderr",
          "text": [
            "/usr/local/lib/python3.8/dist-packages/seaborn/_decorators.py:36: FutureWarning: Pass the following variables as keyword args: x, y. From version 0.12, the only valid positional argument will be `data`, and passing other arguments without an explicit keyword will result in an error or misinterpretation.\n",
            "  warnings.warn(\n"
          ]
        },
        {
          "output_type": "display_data",
          "data": {
            "text/plain": [
              "<Figure size 720x360 with 1 Axes>"
            ],
            "image/png": "[encoded data removed]"
          },
          "metadata": {
            "needs_background": "light"
          }
        }
      ]
    },
    {
      "cell_type": "code",
      "source": [
        "met['Country'].value_counts()[:10]"
      ],
      "metadata": {
        "colab": {
          "base_uri": "https://localhost:8080/"
        },
        "id": "FgRdBk8V3fDH",
        "outputId": "430f8384-f909-4fc1-fd5f-0e643a0132e4"
      },
      "execution_count": 42,
      "outputs": [
        {
          "output_type": "execute_result",
          "data": {
            "text/plain": [
              "Egypt              31318\n",
              "United States       9107\n",
              "Iran                6271\n",
              "Peru                3396\n",
              "France              1718\n",
              "Byzantine Egypt     1673\n",
              "Mexico              1540\n",
              "Indonesia           1390\n",
              "India               1377\n",
              "England             1119\n",
              "Name: Country, dtype: int64"
            ]
          },
          "metadata": {},
          "execution_count": 42
        }
      ]
    },
    {
      "cell_type": "code",
      "source": [
        "values = met['Country'].value_counts()[:5].values\n",
        "labels = met['Country'].value_counts()[:5].index\n",
        "\n",
        "plot_pie_chart(values, labels, \"Top 5 Countries of Artworks\")"
      ],
      "metadata": {
        "colab": {
          "base_uri": "https://localhost:8080/",
          "height": 274
        },
        "id": "gEkj1KhG3jk0",
        "outputId": "59accb9f-65ff-4893-f5aa-936af0dc06f7"
      },
      "execution_count": 43,
      "outputs": [
        {
          "output_type": "display_data",
          "data": {
            "text/plain": [
              "<Figure size 432x288 with 1 Axes>"
            ],
            "image/png": "[encoded data removed]"
          },
          "metadata": {}
        }
      ]
    },
    {
      "cell_type": "code",
      "source": [
        "values = met['Culture'].value_counts()[:5].values\n",
        "labels = met['Culture'].value_counts()[:5].index\n",
        "\n",
        "plot_pie_chart(values, labels, \"Top 5 Culture of Artworks\")"
      ],
      "metadata": {
        "colab": {
          "base_uri": "https://localhost:8080/",
          "height": 274
        },
        "id": "-UsRTkxd3p3K",
        "outputId": "1cc1eca8-0d5d-43b1-f216-cdc0627d1d1a"
      },
      "execution_count": 44,
      "outputs": [
        {
          "output_type": "display_data",
          "data": {
            "text/plain": [
              "<Figure size 432x288 with 1 Axes>"
            ],
            "image/png": "[encoded data removed]"
          },
          "metadata": {}
        }
      ]
    },
    {
      "cell_type": "code",
      "source": [],
      "metadata": {
        "id": "YMziJDY83wNR"
      },
      "execution_count": null,
      "outputs": []
    }
  ]
}